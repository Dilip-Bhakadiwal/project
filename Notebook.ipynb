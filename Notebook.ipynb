{
 "cells": [
  {
   "cell_type": "markdown",
   "id": "feb5fb09",
   "metadata": {},
   "source": [
    "# notebook\n"
   ]
  },
  {
   "cell_type": "markdown",
   "id": "a5849d0e",
   "metadata": {},
   "source": [
    "This notebook serves as a guide for various exercises related to data science and programming concepts.\n"
   ]
  },
  {
   "cell_type": "markdown",
   "id": "586b3184",
   "metadata": {},
   "source": [
    "## Data Science Languages\n",
    "\n",
    "- Python\n",
    "- R\n",
    "- SQL"
   ]
  },
  {
   "cell_type": "markdown",
   "id": "969c1189",
   "metadata": {},
   "source": [
    "## Data Science Libraries\n",
    "\n",
    "- NumPy\n",
    "- Pandas\n",
    "- Matplotlib"
   ]
  },
  {
   "cell_type": "markdown",
   "id": "5942828a",
   "metadata": {},
   "source": [
    "## Data Science Tools\n",
    "\n",
    "| Tool       | Description           |\n",
    "|------------|-----------------------|\n",
    "| Jupyter    | Interactive notebooks |\n",
    "| TensorFlow | Deep learning library |\n",
    "| Scikit-learn | Machine learning library |"
   ]
  },
  {
   "cell_type": "markdown",
   "id": "36f765cd",
   "metadata": {},
   "source": [
    "## Arithmetic Expression Examples\n",
    "\n",
    "In the following exercises, we'll explore various arithmetic operations and expressions.\n",
    "\n"
   ]
  },
  {
   "cell_type": "markdown",
   "id": "a77aa75f",
   "metadata": {},
   "source": [
    "# Code for multiplying and adding numbers\n",
    "a = 5\n",
    "b = 3\n",
    "product = a * b\n",
    "sum = a + b\n",
    "print(\"Product:\", product)\n",
    "print(\"Sum:\", sum)\n"
   ]
  },
  {
   "cell_type": "markdown",
   "id": "58f67350",
   "metadata": {},
   "source": [
    "# Code to convert minutes to hours\n",
    "minutes = 120\n",
    "hours = minutes / 60\n",
    "print(\"Hours:\", hours)\n"
   ]
  },
  {
   "cell_type": "markdown",
   "id": "ea5ce8ce",
   "metadata": {},
   "source": [
    "## Objectives\n",
    "\n",
    "- Learn basic markdown formatting.\n",
    "- Practice coding arithmetic expressions.\n",
    "- Understand data science concepts.\n"
   ]
  },
  {
   "cell_type": "markdown",
   "id": "10c7c52e",
   "metadata": {},
   "source": [
    "## Author\n",
    "\n",
    "[Dilip Bhakadiwal]\n"
   ]
  },
  {
   "cell_type": "markdown",
   "id": "192f8181",
   "metadata": {},
   "source": [
    "# GitHub Link\n",
    "https://github.com/Dilip-Bhakadiwal?tab=repositories"
   ]
  },
  {
   "cell_type": "markdown",
   "id": "c7b25452",
   "metadata": {},
   "source": []
  }
 ],
 "metadata": {
  "kernelspec": {
   "display_name": "Python 3 (ipykernel)",
   "language": "python",
   "name": "python3"
  },
  "language_info": {
   "codemirror_mode": {
    "name": "ipython",
    "version": 3
   },
   "file_extension": ".py",
   "mimetype": "text/x-python",
   "name": "python",
   "nbconvert_exporter": "python",
   "pygments_lexer": "ipython3",
   "version": "3.11.5"
  }
 },
 "nbformat": 4,
 "nbformat_minor": 5
}
